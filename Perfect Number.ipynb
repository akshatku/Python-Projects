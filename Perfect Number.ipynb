{
 "cells": [
  {
   "cell_type": "code",
   "execution_count": null,
   "metadata": {},
   "outputs": [],
   "source": [
    "#perfect number\n",
    "\n",
    "def perfectnum(n):\n",
    "    \n",
    "    sum=0\n",
    "    \n",
    "    for i in range(n):\n",
    "        \n",
    "        if(n%i)==0:\n",
    "            sum+=i\n",
    "    \n",
    "    if sum==n:\n",
    "        x=\"is perfect\"\n",
    "    else:\n",
    "        x=\"is not perfect\"\n",
    "    \n",
    "    return x\n",
    "\n",
    "        \n"
   ]
  }
 ],
 "metadata": {
  "kernelspec": {
   "display_name": "Python 3",
   "language": "python",
   "name": "python3"
  },
  "language_info": {
   "codemirror_mode": {
    "name": "ipython",
    "version": 3
   },
   "file_extension": ".py",
   "mimetype": "text/x-python",
   "name": "python",
   "nbconvert_exporter": "python",
   "pygments_lexer": "ipython3",
   "version": "3.7.9"
  }
 },
 "nbformat": 4,
 "nbformat_minor": 4
}
